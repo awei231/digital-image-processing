{
 "cells": [
  {
   "cell_type": "code",
   "execution_count": 11,
   "id": "9165dcbf-f1b3-4ca3-8cdb-9a3b8da72e7e",
   "metadata": {
    "tags": []
   },
   "outputs": [
    {
     "name": "stderr",
     "output_type": "stream",
     "text": [
      "findfont: Generic family 'sans-serif' not found because none of the following families were found: SimHei\n",
      "findfont: Generic family 'sans-serif' not found because none of the following families were found: SimHei\n",
      "findfont: Generic family 'sans-serif' not found because none of the following families were found: SimHei\n",
      "findfont: Generic family 'sans-serif' not found because none of the following families were found: SimHei\n",
      "findfont: Generic family 'sans-serif' not found because none of the following families were found: SimHei\n",
      "findfont: Generic family 'sans-serif' not found because none of the following families were found: SimHei\n",
      "findfont: Generic family 'sans-serif' not found because none of the following families were found: SimHei\n",
      "findfont: Generic family 'sans-serif' not found because none of the following families were found: SimHei\n",
      "findfont: Generic family 'sans-serif' not found because none of the following families were found: SimHei\n",
      "findfont: Generic family 'sans-serif' not found because none of the following families were found: SimHei\n",
      "findfont: Generic family 'sans-serif' not found because none of the following families were found: SimHei\n",
      "findfont: Generic family 'sans-serif' not found because none of the following families were found: SimHei\n",
      "findfont: Generic family 'sans-serif' not found because none of the following families were found: SimHei\n",
      "findfont: Generic family 'sans-serif' not found because none of the following families were found: SimHei\n",
      "findfont: Generic family 'sans-serif' not found because none of the following families were found: SimHei\n",
      "findfont: Generic family 'sans-serif' not found because none of the following families were found: SimHei\n",
      "findfont: Generic family 'sans-serif' not found because none of the following families were found: SimHei\n",
      "findfont: Generic family 'sans-serif' not found because none of the following families were found: SimHei\n",
      "findfont: Generic family 'sans-serif' not found because none of the following families were found: SimHei\n",
      "findfont: Generic family 'sans-serif' not found because none of the following families were found: SimHei\n",
      "findfont: Generic family 'sans-serif' not found because none of the following families were found: SimHei\n",
      "findfont: Generic family 'sans-serif' not found because none of the following families were found: SimHei\n",
      "findfont: Generic family 'sans-serif' not found because none of the following families were found: SimHei\n",
      "findfont: Generic family 'sans-serif' not found because none of the following families were found: SimHei\n",
      "findfont: Generic family 'sans-serif' not found because none of the following families were found: SimHei\n",
      "findfont: Generic family 'sans-serif' not found because none of the following families were found: SimHei\n",
      "findfont: Generic family 'sans-serif' not found because none of the following families were found: SimHei\n",
      "findfont: Generic family 'sans-serif' not found because none of the following families were found: SimHei\n",
      "findfont: Generic family 'sans-serif' not found because none of the following families were found: SimHei\n"
     ]
    },
    {
     "data": {
      "image/png": "[encoded data removed]",
      "text/plain": [
       "<Figure size 640x480 with 1 Axes>"
      ]
     },
     "metadata": {},
     "output_type": "display_data"
    }
   ],
   "source": [
    "import numpy as np\n",
    "from scipy.fftpack import fft\n",
    "import matplotlib.pyplot as plt\n",
    "from matplotlib.pylab import mpl\n",
    "\n",
    "mpl.rcParams['font.sans-serif'] = ['SimHei']  # 显示中文\n",
    "mpl.rcParams['axes.unicode_minus'] = False  # 显示负号\n",
    "\n",
    "# 采样点选择1400个，因为设置的信号频率分量最高为600赫兹，根据采样定理知采样频率要大于信号频率2倍，\n",
    "# 所以这里设置采样频率为1400赫兹（即一秒内有1400个采样点，一样意思的）\n",
    "N = 1400\n",
    "x = np.linspace(0, 1, N)\n",
    "\n",
    "# 设置需要采样的信号，频率分量有0，200，400和600\n",
    "y = 7 * np.sin(2 * np.pi * 200 * x) + 5 * np.sin(\n",
    "    2 * np.pi * 400 * x) + 3 * np.sin(2 * np.pi * 600 * x) + 10\n",
    "\n",
    "fft_y = fft(y)  # 快速傅里叶变换\n",
    "\n",
    "x = np.arange(N)  # 频率个数\n",
    "half_x = x[range(int(N / 2))]   # 取一半区间\n",
    "\n",
    "angle_y = np.angle(fft_y)       # 取复数的角度\n",
    "\n",
    "abs_y = np.abs(fft_y)               # 取复数的绝对值，即复数的模(双边频谱)\n",
    "normalization_y = abs_y / (N / 2)   # 归一化处理（双边频谱）\n",
    "normalization_y[0] /= 2             # 归一化处理（双边频谱）\n",
    "normalization_half_y = normalization_y[range(int(N / 2))]  # 由于对称性，只取一半区间（单边频谱）\n",
    "\n",
    "\n",
    "# plt.subplot(231)\n",
    "# plt.plot(x, y)\n",
    "# plt.title('原始波形')\n",
    "\n",
    "# plt.subplot(232)\n",
    "# plt.plot(x, fft_y, 'black')\n",
    "# plt.title('双边振幅谱(未求振幅绝对值)', fontsize=9, color='black')\n",
    "\n",
    "# plt.subplot(233)\n",
    "# plt.plot(x, abs_y, 'r')\n",
    "# plt.title('双边振幅谱(未归一化)', fontsize=9, color='red')\n",
    "\n",
    "# plt.subplot(234)\n",
    "# plt.plot(x, angle_y, 'violet')\n",
    "# plt.title('双边相位谱(未归一化)', fontsize=9, color='violet')\n",
    "\n",
    "# plt.subplot(235)\n",
    "# plt.plot(x, normalization_y, 'g')\n",
    "# plt.title('双边振幅谱(归一化)', fontsize=9, color='green')\n",
    "\n",
    "plt.subplot(236)\n",
    "plt.plot(half_x, normalization_half_y, 'blue')\n",
    "plt.title('单边振幅谱(归一化)', fontsize=9, color='blue')\n",
    "\n",
    "plt.show()\n",
    "\n"
   ]
  },
  {
   "cell_type": "code",
   "execution_count": 12,
   "id": "c4c4df23-f4bb-422f-87e4-7b72c1409f5d",
   "metadata": {
    "tags": []
   },
   "outputs": [
    {
     "data": {
      "text/plain": [
       "6.768351494885706"
      ]
     },
     "execution_count": 12,
     "metadata": {},
     "output_type": "execute_result"
    }
   ],
   "source": [
    "abs_y[200]/(1400/2)"
   ]
  },
  {
   "cell_type": "code",
   "execution_count": null,
   "id": "d228be82-047d-4d2c-98ea-3ce53c3ce9a4",
   "metadata": {},
   "outputs": [],
   "source": []
  }
 ],
 "metadata": {
  "kernelspec": {
   "display_name": "Python 3 (ipykernel)",
   "language": "python",
   "name": "python3"
  },
  "language_info": {
   "codemirror_mode": {
    "name": "ipython",
    "version": 3
   },
   "file_extension": ".py",
   "mimetype": "text/x-python",
   "name": "python",
   "nbconvert_exporter": "python",
   "pygments_lexer": "ipython3",
   "version": "3.11.4"
  }
 },
 "nbformat": 4,
 "nbformat_minor": 5
}
