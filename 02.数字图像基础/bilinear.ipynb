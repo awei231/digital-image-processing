{
  "cells": [
    {
      "cell_type": "markdown",
      "metadata": {
        "colab_type": "text",
        "id": "view-in-github"
      },
      "source": [
        "<a href=\"https://colab.research.google.com/github/PacktPublishing/Modern-Computer-Vision-with-PyTorch/blob/master/Chapter01/Back_propagation.ipynb\" target=\"_parent\"><img src=\"https://colab.research.google.com/assets/colab-badge.svg\" alt=\"Open In Colab\"/></a>"
      ]
    },
    {
      "cell_type": "code",
      "execution_count": 1,
      "metadata": {
        "ExecuteTime": {
          "end_time": "2020-09-24T13:36:49.845714Z",
          "start_time": "2020-09-24T13:36:49.666592Z"
        },
        "id": "TTWK_bQBC7mf"
      },
      "outputs": [
        {
          "data": {
            "image/png": "[encoded data removed]",
            "text/plain": [
              "<Figure size 1000x500 with 2 Axes>"
            ]
          },
          "metadata": {},
          "output_type": "display_data"
        }
      ],
      "source": [
        "import cv2\n",
        "import numpy as np\n",
        "import matplotlib.pyplot as plt\n",
        "\n",
        "def bilinear_interpolate(img, x, y):\n",
        "    x_floor, y_floor = int(np.floor(x)), int(np.floor(y))\n",
        "    x_ceil, y_ceil = min(x_floor + 1, img.shape[1] - 1), min(y_floor + 1, img.shape[0] - 1)\n",
        "    \n",
        "    dx = x - x_floor\n",
        "    dy = y - y_floor\n",
        "    \n",
        "    # 双线性插值\n",
        "    pixel_value = (img[y_floor, x_floor] * (1 - dx) * (1 - dy) +\n",
        "                   img[y_floor, x_ceil] * (dx) * (1 - dy) +\n",
        "                   img[y_ceil, x_floor] * (1 - dx) * (dy) +\n",
        "                   img[y_ceil, x_ceil] * (dx) * (dy))\n",
        "    return pixel_value.astype(np.uint8)\n",
        "\n",
        "def resize_image(img, scale):\n",
        "    new_width = int(img.shape[1] * scale)\n",
        "    new_height = int(img.shape[0] * scale)\n",
        "    resized_img = np.zeros((new_height, new_width, img.shape[2]), dtype=np.uint8)\n",
        "    \n",
        "    for i in range(new_height):\n",
        "        for j in range(new_width):\n",
        "            x = j / scale\n",
        "            y = i / scale\n",
        "            pixel_value = bilinear_interpolate(img, x, y)\n",
        "            resized_img[i, j] = pixel_value\n",
        "            \n",
        "    return resized_img\n",
        "\n",
        "# 读取图片\n",
        "#img_path = 'D:/adjustimg.bmp'\n",
        "img_path = 'D:/test3.png'\n",
        "img = cv2.imread(img_path, cv2.IMREAD_COLOR)\n",
        "if img is None:\n",
        "    print(f\"Error: Unable to load image at {img_path}\")\n",
        "    exit()\n",
        "\n",
        "# 将BGR格式转换为RGB格式\n",
        "img = cv2.cvtColor(img, cv2.COLOR_BGR2RGB)\n",
        "\n",
        "# 获取原始图像的尺寸\n",
        "height, width, channels = img.shape\n",
        "\n",
        "# 放大1.5倍\n",
        "scale = 1.5\n",
        "resized_img = resize_image(img, scale)\n",
        "\n",
        "# 显示原始图像和放大后的图像\n",
        "plt.figure(figsize=(10, 5))\n",
        "\n",
        "plt.subplot(1, 2, 1)\n",
        "plt.title('Original Image')\n",
        "plt.imshow(img)\n",
        "plt.axis('off')\n",
        "\n",
        "plt.subplot(1, 2, 2)\n",
        "plt.title(f'Resized Image (1.5x)')\n",
        "plt.imshow(resized_img)\n",
        "plt.axis('off')\n",
        "\n",
        "plt.show()"
      ]
    }
  ],
  "metadata": {
    "colab": {
      "collapsed_sections": [],
      "include_colab_link": true,
      "name": "Back_propagation.ipynb",
      "provenance": []
    },
    "kernelspec": {
      "display_name": "Python 3",
      "language": "python",
      "name": "python3"
    },
    "language_info": {
      "codemirror_mode": {
        "name": "ipython",
        "version": 3
      },
      "file_extension": ".py",
      "mimetype": "text/x-python",
      "name": "python",
      "nbconvert_exporter": "python",
      "pygments_lexer": "ipython3",
      "version": "3.9.13"
    }
  },
  "nbformat": 4,
  "nbformat_minor": 0
}
