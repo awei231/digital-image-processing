{
 "cells": [
  {
   "cell_type": "code",
   "execution_count": 10,
   "metadata": {
    "tags": []
   },
   "outputs": [],
   "source": [
    "import numpy as np\n",
    "import matplotlib.pyplot as plt\n",
    "def nearest_neighbor_interpolation(img, scale):\n",
    "    \"\"\"\n",
    "    最邻近插值法实现图像缩放\n",
    "\n",
    "    参数:\n",
    "    img: 原始图像数组，形状为 (height, width)\n",
    "    scale: 缩放比例，浮点数\n",
    "    返回:\n",
    "\n",
    "    放大或缩小后的图像数组\n",
    "    \"\"\"\n",
    "    # 获取原始图像的尺寸\n",
    "    height, width = img.shape\n",
    "    \n",
    "    # 计算新的图像尺寸\n",
    "    new_height = int(height * scale)\n",
    "    new_width = int(width * scale)\n",
    "    \n",
    "    # 初始化新图像数组\n",
    "    new_img = np.zeros((new_height, new_width))\n",
    "    print(new_img)\n",
    "    \n",
    "    # 遍历新图像的每一个像素\n",
    "    for i in range(new_height):\n",
    "        for j in range(new_width):\n",
    "            # 计算原图中对应位置\n",
    "            # x = int(i / scale)  # 使用min确保索引不越界\n",
    "            # y = int(j / scale)\n",
    "            x = round(i / scale)  # 使用min确保索引不越界\n",
    "            y = round(j / scale)\n",
    "            \n",
    "            # 将最近邻像素的值赋给新图像的当前像素\n",
    "            new_img[i, j] = img[x, y]\n",
    "    \n",
    "    return new_img"
   ]
  },
  {
   "cell_type": "code",
   "execution_count": 8,
   "metadata": {
    "tags": []
   },
   "outputs": [
    {
     "name": "stdout",
     "output_type": "stream",
     "text": [
      "[[0 5]\n",
      " [5 0]]\n"
     ]
    },
    {
     "data": {
      "image/png": "[encoded data removed]",
      "text/plain": [
       "<Figure size 800x400 with 1 Axes>"
      ]
     },
     "metadata": {},
     "output_type": "display_data"
    }
   ],
   "source": [
    "# img = np.array([[0,0,5,5],\n",
    "#                [0,0,5,5],\n",
    "#                [5,5,0,0],\n",
    "#                [5,5,0,0]])\n",
    "\n",
    "img = np.array([[0,5],\n",
    "                [5,0]])\n",
    "\n",
    " # 显示原始图像\n",
    "plt.figure(figsize=(8, 4))\n",
    "plt.subplot(1, 2, 1)\n",
    "plt.imshow(img, cmap='gray')\n",
    "# plt.title('Original Image')\n",
    "\n",
    "print(img)"
   ]
  },
  {
   "cell_type": "code",
   "execution_count": 11,
   "metadata": {
    "tags": []
   },
   "outputs": [
    {
     "name": "stdout",
     "output_type": "stream",
     "text": [
      "[[0. 0. 0.]\n",
      " [0. 0. 0.]\n",
      " [0. 0. 0.]]\n"
     ]
    },
    {
     "data": {
      "image/png": "[encoded data removed]",
      "text/plain": [
       "<Figure size 640x480 with 1 Axes>"
      ]
     },
     "metadata": {},
     "output_type": "display_data"
    },
    {
     "name": "stdout",
     "output_type": "stream",
     "text": [
      "Resized Image Shape: (3, 3)\n",
      "[[0. 5. 5.]\n",
      " [5. 0. 0.]\n",
      " [5. 0. 0.]]\n"
     ]
    }
   ],
   "source": [
    "# 使用1.5倍进行放大 \n",
    "#最近邻插值法\n",
    "scale = 1.5\n",
    "new_img = nearest_neighbor_interpolation(img, scale)\n",
    "\n",
    "# plt.axis('off')  \n",
    "\n",
    "# 显示放大后的图像\n",
    "plt.subplot(1, 2, 2)\n",
    "plt.imshow(new_img, cmap='gray')\n",
    "plt.title(f'Resized Image (Scale x{scale})')\n",
    "# plt.axis('off')\n",
    "\n",
    "plt.tight_layout()  # 自动调整子图参数，使之填充整个图像区域\n",
    "plt.show()\n",
    "print(\"Resized Image Shape:\", new_img.shape)\n",
    "# 打印新图像的部分内容以验证结果\n",
    "print(new_img)"
   ]
  },
  {
   "cell_type": "code",
   "execution_count": null,
   "metadata": {},
   "outputs": [],
   "source": []
  }
 ],
 "metadata": {
  "kernelspec": {
   "display_name": "Python 3 (ipykernel)",
   "language": "python",
   "name": "python3"
  },
  "language_info": {
   "codemirror_mode": {
    "name": "ipython",
    "version": 3
   },
   "file_extension": ".py",
   "mimetype": "text/x-python",
   "name": "python",
   "nbconvert_exporter": "python",
   "pygments_lexer": "ipython3",
   "version": "3.11.4"
  }
 },
 "nbformat": 4,
 "nbformat_minor": 4
}
