{
 "cells": [
  {
   "cell_type": "code",
   "execution_count": 1,
   "id": "3699559f-eb1f-4d52-9696-a10bec3a9d2c",
   "metadata": {},
   "outputs": [],
   "source": [
    "import torch\n",
    "import torch.nn.functional as F\n",
    "import numpy as np"
   ]
  },
  {
   "cell_type": "code",
   "execution_count": 41,
   "id": "61a82423-be97-4834-98ec-1348b0b00e2b",
   "metadata": {},
   "outputs": [],
   "source": [
    "def bicubic_weight_function(x):\n",
    "    a = -0.75\n",
    "    x = torch.abs(x)\n",
    "    # 权重计算公式\n",
    "    weight = ((a + 2.0) * torch.pow(x, 3) - (a + 3.0) * torch.pow(x, 2) + 1.0) * (x <= 1.0) + \\\n",
    "             (a * torch.pow(x, 3) - 5.0 * a * torch.pow(x, 2) + 8.0 * a * x - 4.0 * a) * ((x > 1.0) & (x <= 2.0))\n",
    "\n",
    "         \n",
    "    return weight.repeat(4,1)"
   ]
  },
  {
   "cell_type": "code",
   "execution_count": 42,
   "id": "a8262456-bf74-4411-819c-d28be996dceb",
   "metadata": {},
   "outputs": [
    {
     "name": "stdout",
     "output_type": "stream",
     "text": [
      "[[-0.26041672  0.32638872  0.913194  ]\n",
      " [ 0.9131942   1.5         2.0868053 ]\n",
      " [ 2.0868049   2.673611    3.2604156 ]]\n"
     ]
    }
   ],
   "source": [
    "if __name__ == '__main__':\n",
    "    image = torch.tensor([[[[0,1],\n",
    "                            [2,3]]]],dtype=torch.float32)\n",
    "    out_height,out_width = 3,3\n",
    "\n",
    "    _,_,height,width = image.shape\n",
    "    # 计算高度宽度缩放因子\n",
    "    scale_y = height / out_height\n",
    "    scale_x = width / out_width\n",
    "\n",
    "    # 填充\n",
    "    image_pad = F.pad(image,(2,2,2,2),mode='replicate')\n",
    "\n",
    "    # 创建输出图像\n",
    "    output_image = np.zeros((out_height,out_width),dtype=np.float32)\n",
    "\n",
    "\n",
    "    for out_y in range(out_height):\n",
    "        for out_x in range(out_width):\n",
    "            x = (out_x + 0.5) * scale_x + 1.5\n",
    "            y = (out_y + 0.5) * scale_y + 1.5\n",
    "            delta_x = x % 1\n",
    "            delta_y = y % 1\n",
    "            # 计算距离\n",
    "            distance_x = torch.tensor([delta_x+1,delta_x,1-delta_x,2-delta_x])\n",
    "            distance_y = torch.tensor([delta_y+1,delta_y,1-delta_y,2-delta_y])\n",
    "\n",
    "            # x,y轴方向权重\n",
    "            weight_x = bicubic_weight_function(distance_x)\n",
    "            weight_y = bicubic_weight_function(distance_y).T\n",
    "\n",
    "            index_x = round(x + 0.5)\n",
    "            index_y = round(y + 0.5)\n",
    "            source = image_pad[:,:,index_y-2:index_y+2,index_x-2:index_x+2].squeeze()\n",
    "\n",
    "            output_image[out_y,out_x] = torch.multiply(torch.multiply(source,weight_x),weight_y).sum()\n",
    "    print(output_image)\n",
    "            "
   ]
  },
  {
   "cell_type": "code",
   "execution_count": 43,
   "id": "f74b9380-ec3d-43a2-a275-ee1db878aabc",
   "metadata": {},
   "outputs": [
    {
     "name": "stdout",
     "output_type": "stream",
     "text": [
      "tensor([[[[-0.2604,  0.3264,  0.9132],\n",
      "          [ 0.9132,  1.5000,  2.0868],\n",
      "          [ 2.0868,  2.6736,  3.2604]]]])\n"
     ]
    }
   ],
   "source": [
    "result = F.interpolate(image,(out_height,out_width),mode = 'bicubic',align_corners=False)\n",
    "print(result)"
   ]
  },
  {
   "cell_type": "code",
   "execution_count": null,
   "id": "066c902a-ff41-4aaa-a442-fcad2f431ed8",
   "metadata": {},
   "outputs": [],
   "source": []
  },
  {
   "cell_type": "code",
   "execution_count": null,
   "id": "445da722-64d1-41c2-a68b-d83d096c5597",
   "metadata": {},
   "outputs": [],
   "source": []
  },
  {
   "cell_type": "code",
   "execution_count": null,
   "id": "2d747085-e878-4732-8d42-22a35b897d38",
   "metadata": {},
   "outputs": [],
   "source": []
  }
 ],
 "metadata": {
  "kernelspec": {
   "display_name": "Python 3 (ipykernel)",
   "language": "python",
   "name": "python3"
  },
  "language_info": {
   "codemirror_mode": {
    "name": "ipython",
    "version": 3
   },
   "file_extension": ".py",
   "mimetype": "text/x-python",
   "name": "python",
   "nbconvert_exporter": "python",
   "pygments_lexer": "ipython3",
   "version": "3.9.18"
  }
 },
 "nbformat": 4,
 "nbformat_minor": 5
}
