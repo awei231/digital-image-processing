{
 "cells": [
  {
   "cell_type": "code",
   "execution_count": null,
   "id": "0ef1f5dc-8c6a-481b-9c5c-f6d1097b25a1",
   "metadata": {
    "tags": []
   },
   "outputs": [],
   "source": [
    "\"\"\"\n",
    "Created by HenryMa on 2020/9/14\n",
    "\"\"\"\n",
    "\n",
    "__author__ = 'HenryMa'\n",
    "\n",
    "import time\n",
    "from builtins import *\n",
    "\n",
    "import cv2\n",
    "import numpy as np\n",
    "\n",
    "\n",
    "def OTSU_enhance(img_gray, th_begin=0, th_end=256, th_step=1):\n",
    "    assert img_gray.ndim == 2, 'must input a gray image'\n",
    "\n",
    "    max_g = 0\n",
    "    suitable_th = 0\n",
    "    for threshold in range(th_begin, th_end, th_step):\n",
    "        bin_img = img_gray > threshold\n",
    "        bin_img_inv = img_gray <= threshold\n",
    "        # print(bin_img)\n",
    "        # print(bin_img_inv)\n",
    "        fore_pix = np.sum(bin_img)  # 前景像素总数\n",
    "        back_pix = np.sum(bin_img_inv)  # 背景像素总数\n",
    "        if 0 == fore_pix:\n",
    "            break\n",
    "        if 0 == back_pix:\n",
    "            continue\n",
    "\n",
    "        w0 = float(fore_pix) / img_gray.size\n",
    "        u0 = float(np.sum(img_gray * bin_img)) / fore_pix\n",
    "        w1 = float(back_pix) / img_gray.size\n",
    "        u1 = float(np.sum(img_gray * bin_img_inv)) / back_pix\n",
    "\n",
    "        # intra-class variance\n",
    "        g = w0 * w1 * (u0 - u1) * (u0 - u1)\n",
    "        if g > max_g:\n",
    "            max_g = g\n",
    "            suitable_th = threshold\n",
    "\n",
    "    return suitable_th\n",
    "\n",
    "\n",
    "if __name__ == '__main__':\n",
    "    img = cv2.imread('爱因斯坦.jpg', 0)\n",
    "    cv2.imshow('原图', img)\n",
    "    suit_th = OTSU_enhance(img)\n",
    "    print(suit_th)\n",
    "    # for i in range(img.shape[0]):\n",
    "    #     for j in range(img.shape[1]):\n",
    "    #         img[i, j] = 0 if img[i, j] < suit_th else 255\n",
    "    # cv2.imshow('二值图', img)\n",
    "    t1 = time.time()\n",
    "    result = cv2.threshold(img, 0, 255, cv2.THRESH_OTSU)\n",
    "    t2 = time.time()\n",
    "    print(\"binary cost time: {}ms\".format((t2-t1)*1000))\n",
    "    print(result[0])\n",
    "    print(result[1])\n",
    "    cv2.imshow('binary image', result[1])\n",
    "    cv2.waitKey()\n",
    "    cv2.destroyAllWindows()"
   ]
  },
  {
   "cell_type": "code",
   "execution_count": null,
   "id": "fabae25a-7784-4223-b148-ec20b951183b",
   "metadata": {},
   "outputs": [],
   "source": []
  }
 ],
 "metadata": {
  "kernelspec": {
   "display_name": "Python 3 (ipykernel)",
   "language": "python",
   "name": "python3"
  },
  "language_info": {
   "codemirror_mode": {
    "name": "ipython",
    "version": 3
   },
   "file_extension": ".py",
   "mimetype": "text/x-python",
   "name": "python",
   "nbconvert_exporter": "python",
   "pygments_lexer": "ipython3",
   "version": "3.11.4"
  }
 },
 "nbformat": 4,
 "nbformat_minor": 5
}
