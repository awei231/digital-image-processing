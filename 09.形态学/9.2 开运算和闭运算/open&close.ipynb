{
 "cells": [
  {
   "cell_type": "code",
   "execution_count": 5,
   "id": "96a1098d-ddf7-4b00-9203-2b85d8829253",
   "metadata": {
    "tags": []
   },
   "outputs": [],
   "source": [
    "import cv2\n",
    "import numpy as np\n",
    "import matplotlib\n",
    "import matplotlib.pyplot as plt #最后两个库为了画子图使用\n",
    "def cv_imread(file_path):\n",
    "    cv_img = cv2.imdecode(np.fromfile(file_path, dtype=np.uint8), cv2.IMREAD_COLOR)#utf-8编码读取 彩色图像\n",
    "    return cv_img"
   ]
  },
  {
   "cell_type": "code",
   "execution_count": 1,
   "id": "1ce45250-0584-4b66-88b1-2a79e0efdd9f",
   "metadata": {
    "tags": []
   },
   "outputs": [
    {
     "ename": "NameError",
     "evalue": "name 'cv2' is not defined",
     "output_type": "error",
     "traceback": [
      "\u001b[0;31m---------------------------------------------------------------------------\u001b[0m",
      "\u001b[0;31mNameError\u001b[0m                                 Traceback (most recent call last)",
      "Cell \u001b[0;32mIn[1], line 1\u001b[0m\n\u001b[0;32m----> 1\u001b[0m kernel \u001b[38;5;241m=\u001b[39m cv2\u001b[38;5;241m.\u001b[39mgetStructuringElement(cv2\u001b[38;5;241m.\u001b[39mMORPH_RECT, (\u001b[38;5;241m5\u001b[39m, \u001b[38;5;241m5\u001b[39m))  \u001b[38;5;66;03m# 定义结构元素 5x5矩形结构\u001b[39;00m\n\u001b[1;32m      3\u001b[0m \u001b[38;5;66;03m# img1 = cv2.imread('j_noise_out.bmp') #开运算原始图像\u001b[39;00m\n\u001b[1;32m      4\u001b[0m \u001b[38;5;66;03m# img2 = cv2.imread('j_noise_in.bmp')  #闭运算原始图像\u001b[39;00m\n\u001b[1;32m      5\u001b[0m img1 \u001b[38;5;241m=\u001b[39m cv_imread(\u001b[38;5;124m'\u001b[39m\u001b[38;5;124m爱因斯坦.jpg\u001b[39m\u001b[38;5;124m'\u001b[39m) \n",
      "\u001b[0;31mNameError\u001b[0m: name 'cv2' is not defined"
     ]
    }
   ],
   "source": [
    "kernel = cv2.getStructuringElement(cv2.MORPH_RECT, (5, 5))  # 定义结构元素 5x5矩形结构\n",
    "\n",
    "# img1 = cv2.imread('j_noise_out.bmp') #开运算原始图像\n",
    "# img2 = cv2.imread('j_noise_in.bmp')  #闭运算原始图像\n",
    "img1 = cv_imread('爱因斯坦.jpg') \n",
    "img2 = cv_imread('闭运算.png') \n",
    "\n",
    "opening = cv2.morphologyEx(img1, cv2.MORPH_OPEN, kernel)  # 开运算\n",
    "closing = cv2.morphologyEx(img2, cv2.MORPH_CLOSE, kernel)  # 闭运算\n",
    "\n",
    "titles = ['Original_OP','Opening','Original_CL','Closing']\n",
    "images = [img1, opening, img2, closing]\n",
    "plt.figure(dpi=350) #指定输出像素大小\n",
    "for i in range(4):\n",
    "    plt.subplot(1, 4, i + 1)\n",
    "    plt.imshow(images[i])\n",
    "    plt.title(titles[i], fontsize=10)\n",
    "    plt.xticks([]), plt.yticks([])\n",
    "plt.show()\n"
   ]
  },
  {
   "cell_type": "code",
   "execution_count": null,
   "id": "c89ceb4e-977b-4182-822b-283788e3ba57",
   "metadata": {},
   "outputs": [],
   "source": []
  }
 ],
 "metadata": {
  "kernelspec": {
   "display_name": "Python 3 (ipykernel)",
   "language": "python",
   "name": "python3"
  },
  "language_info": {
   "codemirror_mode": {
    "name": "ipython",
    "version": 3
   },
   "file_extension": ".py",
   "mimetype": "text/x-python",
   "name": "python",
   "nbconvert_exporter": "python",
   "pygments_lexer": "ipython3",
   "version": "3.11.4"
  }
 },
 "nbformat": 4,
 "nbformat_minor": 5
}
